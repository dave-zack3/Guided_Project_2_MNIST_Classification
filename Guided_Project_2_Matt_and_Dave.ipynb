{
 "cells": [
  {
   "cell_type": "markdown",
   "metadata": {
    "id": "BJUhhblyqmA4"
   },
   "source": [
    "# Project 2: Handwritten Digit Recognition with a Simple CNN"
   ]
  },
  {
   "cell_type": "markdown",
   "metadata": {
    "id": "XL5-DXTQqv5h"
   },
   "source": [
    "## Project Overview\n",
    "\n",
    "This project focuses on the development and understanding of a Convolutional Neural Network (CNN) for recognizing handwritten digits using the MNIST dataset. It is structured to provide a comprehensive introduction to deep learning techniques and their practical applications. Participants will engage in:\n",
    "\n",
    "* **Setting up a Python project environment**, emphasizing the importance of virtual environments for effective dependency management in machine learning initiatives.\n",
    "* **Performing data collection and preprocessing**, which includes normalization, reshaping, and batching of image data, essential steps for the successful application of machine learning models.\n",
    "* **Designing and refining a CNN architecture**, where participants will gain hands-on experience in neural network design, layer configuration, and model compilation specific to image recognition tasks.\n",
    "* **Conducting model training and evaluation**, teaching participants to apply training procedures, assess performance metrics, and gauge model accuracy on test data.\n",
    "* **Executing results analysis and model optimization**, aimed at enhancing model performance through methods such as hyperparameter tuning and data augmentation, while mitigating common issues like overfitting.\n",
    "* **Preparing the model for deployment**, which covers model conversion for production environments, development of an interaction interface, and comprehensive project documentation for future scalability and reproducibility.\n",
    "\n",
    "The project aims to build proficiency in utilizing TensorFlow and Keras, equipping participants with the necessary skills to develop, train, and deploy effective machine learning models. Emphasis is placed on following best practices for machine learning project workflows, from data preprocessing to deployment, ensuring participants are well-prepared to handle a variety of data science challenges.\n",
    "\n",
    "**Estimated Completion Time**\n",
    "\n",
    "12 to 14 hours\n"
   ]
  },
  {
   "cell_type": "markdown",
   "metadata": {
    "id": "uqwEw3x50tFk"
   },
   "source": [
    "## Task 1: Project Setup and Environment Preparation\n",
    "\n",
    "**Objective:** Set up the project environment and install necessary libraries to ensure a smooth workflow.\n",
    "\n",
    "**Activities:**\n",
    "\n",
    "1. Install Python and necessary libraries (NumPy, TensorFlow/Keras, Matplotlib, etc.).\n",
    "2. Set up a virtual environment for the project to manage dependencies.\n",
    "3. Verify the installation by running a simple Python script.\n",
    "\n",
    "**Estimated Completion Time:** 60 minutes"
   ]
  },
  {
   "cell_type": "code",
   "execution_count": 1,
   "metadata": {
    "id": "vwbU1G5PSdk0"
   },
   "outputs": [],
   "source": [
    "import numpy as np\n",
    "import pandas as pd\n",
    "import matplotlib.pyplot as plt\n",
    "import seaborn as sns\n",
    "from sklearn.model_selection import train_test_split\n",
    "from sklearn.metrics import confusion_matrix, ConfusionMatrixDisplay\n",
    "from tensorflow import keras\n",
    "from keras import layers\n",
    "from keras.optimizers import SGD\n",
    "from keras.utils import to_categorical\n",
    "from tensorflow.keras.preprocessing.image import ImageDataGenerator\n",
    "from tensorflow.keras.callbacks import TensorBoard, ModelCheckpoint, EarlyStopping, ReduceLROnPlateau\n",
    "import datetime\n",
    "from hyperopt import hp, STATUS_OK, tpe, Trials, fmin\n",
    "import mlflow\n",
    "import mlflow.tensorflow\n",
    "import os\n",
    "%matplotlib inline"
   ]
  },
  {
   "cell_type": "markdown",
   "metadata": {
    "id": "r3c4tfff4qQg"
   },
   "source": []
  },
  {
   "cell_type": "markdown",
   "metadata": {
    "id": "ieB-kYcW2zkg"
   },
   "source": [
    "## **Task 2: Data Collection and Preprocessing**  \n",
    "\n",
    "**Objective:** Gather and prepare the handwritten digits data for training and testing the CNN.  \n",
    "\n",
    "**Activities:**  \n",
    "1. Download the MNIST dataset.  \n",
    "2. Normalize the image pixel values and reshape them for the CNN.  \n",
    "3. Split the data into training, validation, and testing sets.  \n",
    "4. Perform data augmentation to increase the diversity of the training set (e.g., rotations, translations).  \n",
    "5. Implement data loaders for efficient loading and batching operations during training.  \n",
    "6. Visualize the augmented images to verify the data augmentation process.  \n",
    "7. Save the preprocessed data for easy access in subsequent training sessions.\n",
    "\n",
    "**Estimated Completion Time:** 180 minutes"
   ]
  },
  {
   "cell_type": "markdown",
   "metadata": {
    "id": "MYk3jAR0L6G0"
   },
   "source": [
    "1. Download the MNIST dataset."
   ]
  },
  {
   "cell_type": "code",
   "execution_count": 2,
   "metadata": {
    "id": "23e8P7x9L2_s"
   },
   "outputs": [],
   "source": [
    "(X_train, y_train), (X_test, y_test) = keras.datasets.mnist.load_data()"
   ]
  },
  {
   "cell_type": "code",
   "execution_count": 3,
   "metadata": {},
   "outputs": [
    {
     "name": "stdout",
     "output_type": "stream",
     "text": [
      "X train shape: (60000, 28, 28)\n",
      "y train shape: (60000,)\n",
      "X test shape: (10000, 28, 28)\n",
      "y test shape: (10000,)\n"
     ]
    }
   ],
   "source": [
    "print(f'X train shape: {X_train.shape}')\n",
    "print(f'y train shape: {y_train.shape}')\n",
    "print(f'X test shape: {X_test.shape}')\n",
    "print(f'y test shape: {y_test.shape}')"
   ]
  },
  {
   "cell_type": "markdown",
   "metadata": {},
   "source": [
    "2. Normalize the image pixel values and reshape them for the CNN."
   ]
  },
  {
   "cell_type": "code",
   "execution_count": 4,
   "metadata": {},
   "outputs": [],
   "source": [
    "# Normalize the image data by diving by 255\n",
    "X_train_scaled = X_train / 255\n",
    "X_test_scaled = X_test / 255"
   ]
  },
  {
   "cell_type": "markdown",
   "metadata": {},
   "source": [
    "Ensure the input data is in the appropriate format for input into the CNN"
   ]
  },
  {
   "cell_type": "code",
   "execution_count": 5,
   "metadata": {},
   "outputs": [],
   "source": [
    "# expand_dims to allow to signify that the image is greyscale\n",
    "X_train_scaled = np.expand_dims(X_train_scaled, axis = 3)\n",
    "X_test_scaled = np.expand_dims(X_test_scaled, axis = 3)"
   ]
  },
  {
   "cell_type": "code",
   "execution_count": 6,
   "metadata": {},
   "outputs": [
    {
     "name": "stdout",
     "output_type": "stream",
     "text": [
      "X train new shape: (60000, 28, 28, 1)\n",
      "X test new shape: (10000, 28, 28, 1)\n"
     ]
    }
   ],
   "source": [
    "print(f'X train new shape: {X_train_scaled.shape}')\n",
    "print(f'X test new shape: {X_test_scaled.shape}')"
   ]
  },
  {
   "cell_type": "markdown",
   "metadata": {},
   "source": [
    "3. Split the data into training, validation, and testing sets."
   ]
  },
  {
   "cell_type": "code",
   "execution_count": 7,
   "metadata": {},
   "outputs": [],
   "source": [
    "# Add validation data\n",
    "X_train_scaled, X_validation_scaled, y_train, y_validation = train_test_split(X_train_scaled, y_train, test_size = 0.1, random_state = 42)"
   ]
  },
  {
   "cell_type": "code",
   "execution_count": 8,
   "metadata": {},
   "outputs": [
    {
     "name": "stdout",
     "output_type": "stream",
     "text": [
      "X train shape: (54000, 28, 28, 1)\n",
      "y train shape: (54000,)\n",
      "X validation shape: (6000, 28, 28, 1)\n",
      "y validation shape: (6000,)\n",
      "X test shape: (10000, 28, 28, 1)\n",
      "y test shape: (10000,)\n"
     ]
    }
   ],
   "source": [
    "print(f'X train shape: {X_train_scaled.shape}')\n",
    "print(f'y train shape: {y_train.shape}')\n",
    "print(f'X validation shape: {X_validation_scaled.shape}')\n",
    "print(f'y validation shape: {y_validation.shape}')\n",
    "print(f'X test shape: {X_test_scaled.shape}')\n",
    "print(f'y test shape: {y_test.shape}')"
   ]
  },
  {
   "cell_type": "code",
   "execution_count": 9,
   "metadata": {},
   "outputs": [
    {
     "name": "stdout",
     "output_type": "stream",
     "text": [
      "6\n",
      "[[  0   0   0   0   0   0   0   0   0   0   0   0   0   0   0   0   0   0   0   0   0   0   0   0   0   0   0   0]\n",
      " [  0   0   0   0   0   0   0   0   0   0   0   0   0   0   0   0   0   0   0   0   0   0   0   0   0   0   0   0]\n",
      " [  0   0   0   0   0   0   0   0   0   0   0   0   0   0   0   0   0   0   0   0   0   0   0   0   0   0   0   0]\n",
      " [  0   0   0   0   0   0   0   0   0   0   0   0   0   0   0   0   0   0   0   0   0   0   0   0   0   0   0   0]\n",
      " [  0   0   0   0   0   0   0   0   0   0   0   0   0   0   0  51 159 253 159  50   0   0   0   0   0   0   0   0]\n",
      " [  0   0   0   0   0   0   0   0   0   0   0   0   0   0  48 238 252 252 252 237   0   0   0   0   0   0   0   0]\n",
      " [  0   0   0   0   0   0   0   0   0   0   0   0   0  54 227 253 252 239 233 252  57   6   0   0   0   0   0   0]\n",
      " [  0   0   0   0   0   0   0   0   0   0   0  10  60 224 252 253 252 202  84 252 253 122   0   0   0   0   0   0]\n",
      " [  0   0   0   0   0   0   0   0   0   0   0 163 252 252 252 253 252 252  96 189 253 167   0   0   0   0   0   0]\n",
      " [  0   0   0   0   0   0   0   0   0   0  51 238 253 253 190 114 253 228  47  79 255 168   0   0   0   0   0   0]\n",
      " [  0   0   0   0   0   0   0   0   0  48 238 252 252 179  12  75 121  21   0   0 253 243  50   0   0   0   0   0]\n",
      " [  0   0   0   0   0   0   0   0  38 165 253 233 208  84   0   0   0   0   0   0 253 252 165   0   0   0   0   0]\n",
      " [  0   0   0   0   0   0   0   7 178 252 240  71  19  28   0   0   0   0   0   0 253 252 195   0   0   0   0   0]\n",
      " [  0   0   0   0   0   0   0  57 252 252  63   0   0   0   0   0   0   0   0   0 253 252 195   0   0   0   0   0]\n",
      " [  0   0   0   0   0   0   0 198 253 190   0   0   0   0   0   0   0   0   0   0 255 253 196   0   0   0   0   0]\n",
      " [  0   0   0   0   0   0  76 246 252 112   0   0   0   0   0   0   0   0   0   0 253 252 148   0   0   0   0   0]\n",
      " [  0   0   0   0   0   0  85 252 230  25   0   0   0   0   0   0   0   0   7 135 253 186  12   0   0   0   0   0]\n",
      " [  0   0   0   0   0   0  85 252 223   0   0   0   0   0   0   0   0   7 131 252 225  71   0   0   0   0   0   0]\n",
      " [  0   0   0   0   0   0  85 252 145   0   0   0   0   0   0   0  48 165 252 173   0   0   0   0   0   0   0   0]\n",
      " [  0   0   0   0   0   0  86 253 225   0   0   0   0   0   0 114 238 253 162   0   0   0   0   0   0   0   0   0]\n",
      " [  0   0   0   0   0   0  85 252 249 146  48  29  85 178 225 253 223 167  56   0   0   0   0   0   0   0   0   0]\n",
      " [  0   0   0   0   0   0  85 252 252 252 229 215 252 252 252 196 130   0   0   0   0   0   0   0   0   0   0   0]\n",
      " [  0   0   0   0   0   0  28 199 252 252 253 252 252 233 145   0   0   0   0   0   0   0   0   0   0   0   0   0]\n",
      " [  0   0   0   0   0   0   0  25 128 252 253 252 141  37   0   0   0   0   0   0   0   0   0   0   0   0   0   0]\n",
      " [  0   0   0   0   0   0   0   0   0   0   0   0   0   0   0   0   0   0   0   0   0   0   0   0   0   0   0   0]\n",
      " [  0   0   0   0   0   0   0   0   0   0   0   0   0   0   0   0   0   0   0   0   0   0   0   0   0   0   0   0]\n",
      " [  0   0   0   0   0   0   0   0   0   0   0   0   0   0   0   0   0   0   0   0   0   0   0   0   0   0   0   0]\n",
      " [  0   0   0   0   0   0   0   0   0   0   0   0   0   0   0   0   0   0   0   0   0   0   0   0   0   0   0   0]]\n"
     ]
    }
   ],
   "source": [
    "np.set_printoptions(linewidth=28 * 28)\n",
    "i = 1\n",
    "print(y_train[i])  # the class label == the actual digit\n",
    "print(X_train[i])"
   ]
  },
  {
   "cell_type": "markdown",
   "metadata": {},
   "source": [
    "Convert y_train, y_validation, and y_test to categorical using the to_categorical function"
   ]
  },
  {
   "cell_type": "code",
   "execution_count": 10,
   "metadata": {},
   "outputs": [],
   "source": [
    "y_train_categorical = to_categorical(y_train, num_classes = 10)\n",
    "y_validation_categorical = to_categorical(y_validation, num_classes = 10)\n",
    "y_test_categorical = to_categorical(y_test, num_classes = 10)"
   ]
  },
  {
   "cell_type": "markdown",
   "metadata": {},
   "source": [
    "4. Perform data augmentation to increase the diversity of the training set (e.g., rotations, translations)."
   ]
  },
  {
   "cell_type": "code",
   "execution_count": 11,
   "metadata": {},
   "outputs": [
    {
     "data": {
      "image/png": "[encoded data removed]",
      "text/plain": [
       "<Figure size 1500x1500 with 9 Axes>"
      ]
     },
     "metadata": {},
     "output_type": "display_data"
    }
   ],
   "source": [
    "plt.figure(figsize = (15,15))\n",
    "for i in range(0,9):\n",
    "    plt.subplot(330 + 1 + i) # Create the 3x3 image grid\n",
    "    plt.axis('off')\n",
    "    plt.imshow(X_train_scaled[i][:,:,0], cmap='gray')\n",
    "    plt.title('number = ' + str(y_train[i]))\n",
    "plt.show()"
   ]
  },
  {
   "cell_type": "code",
   "execution_count": 12,
   "metadata": {},
   "outputs": [
    {
     "data": {
      "image/png": "[encoded data removed]",
      "text/plain": [
       "<Figure size 1500x1500 with 9 Axes>"
      ]
     },
     "metadata": {},
     "output_type": "display_data"
    }
   ],
   "source": [
    "# Create an image generator for the training set \n",
    "datagen_train = ImageDataGenerator(rotation_range=10, # Rotating randomly the images up to 25°\n",
    "                             width_shift_range=0.05, # Moving the images from left to right\n",
    "                             height_shift_range=0.05, # Then from top to bottom\n",
    "                             shear_range=0.10, \n",
    "                             zoom_range=0.05, # Zooming randomly up to 20%\n",
    "                             zca_whitening=False,\n",
    "                             horizontal_flip=False, \n",
    "                             vertical_flip=False,\n",
    "                            fill_mode = 'nearest')\n",
    "\n",
    "# Plot a subset of those images to inspect the augmentation\n",
    "datagen_train.fit(X_train_scaled) # Very important to fit the Generator on the data\n",
    "plt.figure(figsize = (15,15))\n",
    "for X_batch, y_batch in datagen_train.flow(X_train_scaled, y_train, batch_size=9, seed = 42):\n",
    "    for i in range(0,9):\n",
    "        plt.subplot(330 + 1 + i)\n",
    "        plt.axis('off')\n",
    "        plt.imshow(X_batch[i][:,:,0], cmap='gray')\n",
    "        plt.title('number = ' + str(y_batch[i]))\n",
    "    break\n",
    "# Since we are now batching, we won't get the exact same images from the last example."
   ]
  },
  {
   "cell_type": "code",
   "execution_count": 13,
   "metadata": {},
   "outputs": [],
   "source": [
    "# Create an image generator for the validation set\n",
    "datagen_validation = ImageDataGenerator(rotation_range=10, # Rotating randomly the images up to 25°\n",
    "                             width_shift_range=0.05, # Moving the images from left to right\n",
    "                             height_shift_range=0.05, # Then from top to bottom\n",
    "                             shear_range=0.10, \n",
    "                             zoom_range=0.05, # Zooming randomly up to 20%\n",
    "                             zca_whitening=False,\n",
    "                             horizontal_flip=False, \n",
    "                             vertical_flip=False,\n",
    "                            fill_mode = 'nearest')\n",
    "\n",
    "datagen_validation.fit(X_validation_scaled) # Very important to fit the Generator on the data"
   ]
  },
  {
   "cell_type": "markdown",
   "metadata": {},
   "source": [
    "Use np.savez_compressed to save the training, validation, and test sets to a compressed .npz file. This method is efficient for storage and quick to load, making it ideal for large datasets."
   ]
  },
  {
   "cell_type": "code",
   "execution_count": 14,
   "metadata": {},
   "outputs": [],
   "source": [
    "np.savez_compressed('C:/Users/638658/Downloads/CNN_Data',\n",
    "                   X_train_scaled = X_train_scaled,\n",
    "                   X_validation_scaled = X_validation_scaled,\n",
    "                   X_test_scaled = X_test_scaled,\n",
    "                   y_train_categorical = y_train_categorical,\n",
    "                   y_validation_categorical = y_validation_categorical,\n",
    "                   y_test_categorical = y_test_categorical)"
   ]
  },
  {
   "cell_type": "code",
   "execution_count": 15,
   "metadata": {},
   "outputs": [
    {
     "name": "stdout",
     "output_type": "stream",
     "text": [
      "(54000, 28, 28, 1)\n"
     ]
    }
   ],
   "source": [
    "# Verify that the file was saved by printing the shape of X_train_scale\n",
    "loaded = np.load('C:/Users/638658/Downloads/CNN_Data.npz')\n",
    "print(loaded['X_train_scaled'].shape)"
   ]
  },
  {
   "cell_type": "markdown",
   "metadata": {
    "id": "yTHf_FY0RKgx"
   },
   "source": [
    "---\n",
    "---"
   ]
  },
  {
   "cell_type": "markdown",
   "metadata": {
    "id": "I1kUAhZb2ziE"
   },
   "source": [
    "## **Task 3: Designing the CNN Architecture**  \n",
    "\n",
    "**Objective:** Design a simple Convolutional Neural Network architecture suitable for handwritten digit recognition.  \n",
    "\n",
    "**Activities:**\n",
    "\n",
    "1. Define the CNN layers, including convolutional, activation, pooling, and fully connected layers.  \n",
    "2. Choose activation functions and initialize weights.  \n",
    "3. Configure the optimizer, loss function, and metrics for model compilation.  \n",
    "4. Summarize the model to visualize the architecture and parameters.\n",
    "\n",
    "**Estimated Completion Time:** 90 minutes"
   ]
  },
  {
   "cell_type": "markdown",
   "metadata": {},
   "source": [
    "1. Define the CNN layers, including convolutional, activation, pooling, and fully connected layers."
   ]
  },
  {
   "cell_type": "code",
   "execution_count": 16,
   "metadata": {
    "id": "T1JpyYH6RRnI"
   },
   "outputs": [],
   "source": [
    "# Define the CNN layers, including convolutional, activation, pooling, and fully connected layers.\n",
    "def build_model():\n",
    "    \n",
    "    input_shape = (28, 28, 1) # 1 is the count of channels (no RGB)\n",
    "\n",
    "    model = keras.Sequential([\n",
    "        # // The input layer\n",
    "        layers.Input(shape=input_shape),\n",
    "    \n",
    "        # // Hidden layers\n",
    "        # Kernel initializer = glorot_uniform, bias_initializer = zeros\n",
    "        layers.Conv2D(32, kernel_size=(3, 3), activation=\"relu\", name='CL1'),\n",
    "        layers.MaxPooling2D(pool_size=(2, 2), name='MPL1'),\n",
    "        layers.Dropout(rate=0.2),\n",
    "\n",
    "        # // Hidden layers\n",
    "        # Kernel initializer = glorot_uniform, bias_initializer = zeros\n",
    "        layers.Conv2D(16, kernel_size=(3, 3), activation=\"relu\", name='CL2'),\n",
    "        layers.MaxPooling2D(pool_size=(2, 2), name='MPL2'),\n",
    "        layers.Dropout(rate=0.2),\n",
    "    \n",
    "        layers.Flatten(name='FL'),\n",
    "\n",
    "        # // Hidden layers\n",
    "        # Kernel initializer = glorot_uniform, bias_initializer = zeros\n",
    "        layers.Dense(32, activation='relu', name='DL1'),\n",
    "        layers.Dropout(rate=0.2),\n",
    "        \n",
    "        # // The model's output layer\n",
    "        # We create a classifier for our model and set it to 10 for each number 0-9\n",
    "        layers.Dense(10, name=\"OUTL\", activation='softmax'),\n",
    "      ])\n",
    "\n",
    "    model.summary()\n",
    "    print (model.inputs, model.outputs)\n",
    "\n",
    "    return model"
   ]
  },
  {
   "cell_type": "markdown",
   "metadata": {},
   "source": [
    "3. Configure the optimizer, loss function, and metrics for model compilation."
   ]
  },
  {
   "cell_type": "code",
   "execution_count": 17,
   "metadata": {},
   "outputs": [],
   "source": [
    "# Configure the optimizer, loss function, and metrics for model compilation.\n",
    "def compile_model(model):\n",
    "    '''\n",
    "    Compile the pre-built model with the model hyperparameters.\n",
    "    Return the compiled model\n",
    "    '''\n",
    "    model.compile(    \n",
    "      # Optimizer is Stochastic Gradient Descent with Nesterov Momentum\n",
    "      optimizer=SGD(learning_rate=1e-2, momentum=0.9, nesterov=True),\n",
    "    \n",
    "      # The loss function that we need to minimize\n",
    "      loss=keras.losses.CategoricalCrossentropy(),  # we have a lot of \"holes\" in the dataset (the black pixels with a value of 0)\n",
    "     \n",
    "      # The metrics (can be more than one) to monitor\n",
    "      metrics=[keras.metrics.CategoricalAccuracy()],\n",
    "    )\n",
    "\n",
    "    return model"
   ]
  },
  {
   "cell_type": "markdown",
   "metadata": {},
   "source": [
    "4. Summarize the model to visualize the architecture and parameters."
   ]
  },
  {
   "cell_type": "code",
   "execution_count": 18,
   "metadata": {},
   "outputs": [
    {
     "data": {
      "text/html": [
       "<pre style=\"white-space:pre;overflow-x:auto;line-height:normal;font-family:Menlo,'DejaVu Sans Mono',consolas,'Courier New',monospace\"><span style=\"font-weight: bold\">Model: \"sequential\"</span>\n",
       "</pre>\n"
      ],
      "text/plain": [
       "\u001b[1mModel: \"sequential\"\u001b[0m\n"
      ]
     },
     "metadata": {},
     "output_type": "display_data"
    },
    {
     "data": {
      "text/html": [
       "<pre style=\"white-space:pre;overflow-x:auto;line-height:normal;font-family:Menlo,'DejaVu Sans Mono',consolas,'Courier New',monospace\">┏━━━━━━━━━━━━━━━━━━━━━━━━━━━━━━━━━┳━━━━━━━━━━━━━━━━━━━━━━━━┳━━━━━━━━━━━━━━━┓\n",
       "┃<span style=\"font-weight: bold\"> Layer (type)                    </span>┃<span style=\"font-weight: bold\"> Output Shape           </span>┃<span style=\"font-weight: bold\">       Param # </span>┃\n",
       "┡━━━━━━━━━━━━━━━━━━━━━━━━━━━━━━━━━╇━━━━━━━━━━━━━━━━━━━━━━━━╇━━━━━━━━━━━━━━━┩\n",
       "│ CL1 (<span style=\"color: #0087ff; text-decoration-color: #0087ff\">Conv2D</span>)                    │ (<span style=\"color: #00d7ff; text-decoration-color: #00d7ff\">None</span>, <span style=\"color: #00af00; text-decoration-color: #00af00\">26</span>, <span style=\"color: #00af00; text-decoration-color: #00af00\">26</span>, <span style=\"color: #00af00; text-decoration-color: #00af00\">32</span>)     │           <span style=\"color: #00af00; text-decoration-color: #00af00\">320</span> │\n",
       "├─────────────────────────────────┼────────────────────────┼───────────────┤\n",
       "│ MPL1 (<span style=\"color: #0087ff; text-decoration-color: #0087ff\">MaxPooling2D</span>)             │ (<span style=\"color: #00d7ff; text-decoration-color: #00d7ff\">None</span>, <span style=\"color: #00af00; text-decoration-color: #00af00\">13</span>, <span style=\"color: #00af00; text-decoration-color: #00af00\">13</span>, <span style=\"color: #00af00; text-decoration-color: #00af00\">32</span>)     │             <span style=\"color: #00af00; text-decoration-color: #00af00\">0</span> │\n",
       "├─────────────────────────────────┼────────────────────────┼───────────────┤\n",
       "│ dropout (<span style=\"color: #0087ff; text-decoration-color: #0087ff\">Dropout</span>)               │ (<span style=\"color: #00d7ff; text-decoration-color: #00d7ff\">None</span>, <span style=\"color: #00af00; text-decoration-color: #00af00\">13</span>, <span style=\"color: #00af00; text-decoration-color: #00af00\">13</span>, <span style=\"color: #00af00; text-decoration-color: #00af00\">32</span>)     │             <span style=\"color: #00af00; text-decoration-color: #00af00\">0</span> │\n",
       "├─────────────────────────────────┼────────────────────────┼───────────────┤\n",
       "│ CL2 (<span style=\"color: #0087ff; text-decoration-color: #0087ff\">Conv2D</span>)                    │ (<span style=\"color: #00d7ff; text-decoration-color: #00d7ff\">None</span>, <span style=\"color: #00af00; text-decoration-color: #00af00\">11</span>, <span style=\"color: #00af00; text-decoration-color: #00af00\">11</span>, <span style=\"color: #00af00; text-decoration-color: #00af00\">16</span>)     │         <span style=\"color: #00af00; text-decoration-color: #00af00\">4,624</span> │\n",
       "├─────────────────────────────────┼────────────────────────┼───────────────┤\n",
       "│ MPL2 (<span style=\"color: #0087ff; text-decoration-color: #0087ff\">MaxPooling2D</span>)             │ (<span style=\"color: #00d7ff; text-decoration-color: #00d7ff\">None</span>, <span style=\"color: #00af00; text-decoration-color: #00af00\">5</span>, <span style=\"color: #00af00; text-decoration-color: #00af00\">5</span>, <span style=\"color: #00af00; text-decoration-color: #00af00\">16</span>)       │             <span style=\"color: #00af00; text-decoration-color: #00af00\">0</span> │\n",
       "├─────────────────────────────────┼────────────────────────┼───────────────┤\n",
       "│ dropout_1 (<span style=\"color: #0087ff; text-decoration-color: #0087ff\">Dropout</span>)             │ (<span style=\"color: #00d7ff; text-decoration-color: #00d7ff\">None</span>, <span style=\"color: #00af00; text-decoration-color: #00af00\">5</span>, <span style=\"color: #00af00; text-decoration-color: #00af00\">5</span>, <span style=\"color: #00af00; text-decoration-color: #00af00\">16</span>)       │             <span style=\"color: #00af00; text-decoration-color: #00af00\">0</span> │\n",
       "├─────────────────────────────────┼────────────────────────┼───────────────┤\n",
       "│ FL (<span style=\"color: #0087ff; text-decoration-color: #0087ff\">Flatten</span>)                    │ (<span style=\"color: #00d7ff; text-decoration-color: #00d7ff\">None</span>, <span style=\"color: #00af00; text-decoration-color: #00af00\">400</span>)            │             <span style=\"color: #00af00; text-decoration-color: #00af00\">0</span> │\n",
       "├─────────────────────────────────┼────────────────────────┼───────────────┤\n",
       "│ DL1 (<span style=\"color: #0087ff; text-decoration-color: #0087ff\">Dense</span>)                     │ (<span style=\"color: #00d7ff; text-decoration-color: #00d7ff\">None</span>, <span style=\"color: #00af00; text-decoration-color: #00af00\">32</span>)             │        <span style=\"color: #00af00; text-decoration-color: #00af00\">12,832</span> │\n",
       "├─────────────────────────────────┼────────────────────────┼───────────────┤\n",
       "│ dropout_2 (<span style=\"color: #0087ff; text-decoration-color: #0087ff\">Dropout</span>)             │ (<span style=\"color: #00d7ff; text-decoration-color: #00d7ff\">None</span>, <span style=\"color: #00af00; text-decoration-color: #00af00\">32</span>)             │             <span style=\"color: #00af00; text-decoration-color: #00af00\">0</span> │\n",
       "├─────────────────────────────────┼────────────────────────┼───────────────┤\n",
       "│ OUTL (<span style=\"color: #0087ff; text-decoration-color: #0087ff\">Dense</span>)                    │ (<span style=\"color: #00d7ff; text-decoration-color: #00d7ff\">None</span>, <span style=\"color: #00af00; text-decoration-color: #00af00\">10</span>)             │           <span style=\"color: #00af00; text-decoration-color: #00af00\">330</span> │\n",
       "└─────────────────────────────────┴────────────────────────┴───────────────┘\n",
       "</pre>\n"
      ],
      "text/plain": [
       "┏━━━━━━━━━━━━━━━━━━━━━━━━━━━━━━━━━┳━━━━━━━━━━━━━━━━━━━━━━━━┳━━━━━━━━━━━━━━━┓\n",
       "┃\u001b[1m \u001b[0m\u001b[1mLayer (type)                   \u001b[0m\u001b[1m \u001b[0m┃\u001b[1m \u001b[0m\u001b[1mOutput Shape          \u001b[0m\u001b[1m \u001b[0m┃\u001b[1m \u001b[0m\u001b[1m      Param #\u001b[0m\u001b[1m \u001b[0m┃\n",
       "┡━━━━━━━━━━━━━━━━━━━━━━━━━━━━━━━━━╇━━━━━━━━━━━━━━━━━━━━━━━━╇━━━━━━━━━━━━━━━┩\n",
       "│ CL1 (\u001b[38;5;33mConv2D\u001b[0m)                    │ (\u001b[38;5;45mNone\u001b[0m, \u001b[38;5;34m26\u001b[0m, \u001b[38;5;34m26\u001b[0m, \u001b[38;5;34m32\u001b[0m)     │           \u001b[38;5;34m320\u001b[0m │\n",
       "├─────────────────────────────────┼────────────────────────┼───────────────┤\n",
       "│ MPL1 (\u001b[38;5;33mMaxPooling2D\u001b[0m)             │ (\u001b[38;5;45mNone\u001b[0m, \u001b[38;5;34m13\u001b[0m, \u001b[38;5;34m13\u001b[0m, \u001b[38;5;34m32\u001b[0m)     │             \u001b[38;5;34m0\u001b[0m │\n",
       "├─────────────────────────────────┼────────────────────────┼───────────────┤\n",
       "│ dropout (\u001b[38;5;33mDropout\u001b[0m)               │ (\u001b[38;5;45mNone\u001b[0m, \u001b[38;5;34m13\u001b[0m, \u001b[38;5;34m13\u001b[0m, \u001b[38;5;34m32\u001b[0m)     │             \u001b[38;5;34m0\u001b[0m │\n",
       "├─────────────────────────────────┼────────────────────────┼───────────────┤\n",
       "│ CL2 (\u001b[38;5;33mConv2D\u001b[0m)                    │ (\u001b[38;5;45mNone\u001b[0m, \u001b[38;5;34m11\u001b[0m, \u001b[38;5;34m11\u001b[0m, \u001b[38;5;34m16\u001b[0m)     │         \u001b[38;5;34m4,624\u001b[0m │\n",
       "├─────────────────────────────────┼────────────────────────┼───────────────┤\n",
       "│ MPL2 (\u001b[38;5;33mMaxPooling2D\u001b[0m)             │ (\u001b[38;5;45mNone\u001b[0m, \u001b[38;5;34m5\u001b[0m, \u001b[38;5;34m5\u001b[0m, \u001b[38;5;34m16\u001b[0m)       │             \u001b[38;5;34m0\u001b[0m │\n",
       "├─────────────────────────────────┼────────────────────────┼───────────────┤\n",
       "│ dropout_1 (\u001b[38;5;33mDropout\u001b[0m)             │ (\u001b[38;5;45mNone\u001b[0m, \u001b[38;5;34m5\u001b[0m, \u001b[38;5;34m5\u001b[0m, \u001b[38;5;34m16\u001b[0m)       │             \u001b[38;5;34m0\u001b[0m │\n",
       "├─────────────────────────────────┼────────────────────────┼───────────────┤\n",
       "│ FL (\u001b[38;5;33mFlatten\u001b[0m)                    │ (\u001b[38;5;45mNone\u001b[0m, \u001b[38;5;34m400\u001b[0m)            │             \u001b[38;5;34m0\u001b[0m │\n",
       "├─────────────────────────────────┼────────────────────────┼───────────────┤\n",
       "│ DL1 (\u001b[38;5;33mDense\u001b[0m)                     │ (\u001b[38;5;45mNone\u001b[0m, \u001b[38;5;34m32\u001b[0m)             │        \u001b[38;5;34m12,832\u001b[0m │\n",
       "├─────────────────────────────────┼────────────────────────┼───────────────┤\n",
       "│ dropout_2 (\u001b[38;5;33mDropout\u001b[0m)             │ (\u001b[38;5;45mNone\u001b[0m, \u001b[38;5;34m32\u001b[0m)             │             \u001b[38;5;34m0\u001b[0m │\n",
       "├─────────────────────────────────┼────────────────────────┼───────────────┤\n",
       "│ OUTL (\u001b[38;5;33mDense\u001b[0m)                    │ (\u001b[38;5;45mNone\u001b[0m, \u001b[38;5;34m10\u001b[0m)             │           \u001b[38;5;34m330\u001b[0m │\n",
       "└─────────────────────────────────┴────────────────────────┴───────────────┘\n"
      ]
     },
     "metadata": {},
     "output_type": "display_data"
    },
    {
     "data": {
      "text/html": [
       "<pre style=\"white-space:pre;overflow-x:auto;line-height:normal;font-family:Menlo,'DejaVu Sans Mono',consolas,'Courier New',monospace\"><span style=\"font-weight: bold\"> Total params: </span><span style=\"color: #00af00; text-decoration-color: #00af00\">18,106</span> (70.73 KB)\n",
       "</pre>\n"
      ],
      "text/plain": [
       "\u001b[1m Total params: \u001b[0m\u001b[38;5;34m18,106\u001b[0m (70.73 KB)\n"
      ]
     },
     "metadata": {},
     "output_type": "display_data"
    },
    {
     "data": {
      "text/html": [
       "<pre style=\"white-space:pre;overflow-x:auto;line-height:normal;font-family:Menlo,'DejaVu Sans Mono',consolas,'Courier New',monospace\"><span style=\"font-weight: bold\"> Trainable params: </span><span style=\"color: #00af00; text-decoration-color: #00af00\">18,106</span> (70.73 KB)\n",
       "</pre>\n"
      ],
      "text/plain": [
       "\u001b[1m Trainable params: \u001b[0m\u001b[38;5;34m18,106\u001b[0m (70.73 KB)\n"
      ]
     },
     "metadata": {},
     "output_type": "display_data"
    },
    {
     "data": {
      "text/html": [
       "<pre style=\"white-space:pre;overflow-x:auto;line-height:normal;font-family:Menlo,'DejaVu Sans Mono',consolas,'Courier New',monospace\"><span style=\"font-weight: bold\"> Non-trainable params: </span><span style=\"color: #00af00; text-decoration-color: #00af00\">0</span> (0.00 B)\n",
       "</pre>\n"
      ],
      "text/plain": [
       "\u001b[1m Non-trainable params: \u001b[0m\u001b[38;5;34m0\u001b[0m (0.00 B)\n"
      ]
     },
     "metadata": {},
     "output_type": "display_data"
    },
    {
     "name": "stdout",
     "output_type": "stream",
     "text": [
      "[<KerasTensor shape=(None, 28, 28, 1), dtype=float32, sparse=None, name=keras_tensor>] [<KerasTensor shape=(None, 10), dtype=float32, sparse=False, name=keras_tensor_10>]\n"
     ]
    }
   ],
   "source": [
    "# Summarize the model by building it and outputting the summary\n",
    "model = build_model()"
   ]
  },
  {
   "cell_type": "markdown",
   "metadata": {
    "id": "Wmk2qENzRXIk"
   },
   "source": []
  },
  {
   "cell_type": "markdown",
   "metadata": {
    "id": "VGDQQvgm2zfL"
   },
   "source": [
    "\n",
    "## **Task 4: Model Training and Evaluation**  \n",
    "\n",
    "**Objective:** Train the CNN with the training data and evaluate its performance on the test set.  \n",
    "\n",
    "**Activities:**\n",
    "\n",
    "1. Integrate TensorBoard callbacks for real-time tracking of training metrics.\n",
    "2. Set up callbacks for model checkpoints, early stopping, and learning rate adjustments.  \n",
    "3. Train the model with the training set while validating on the validation set.  \n",
    "4. Use TensorBoard to plot training and validation loss and accuracy.  \n",
    "5. Evaluate the model on the test set to assess its generalization capability.  \n",
    "6. Perform error analysis by reviewing misclassified images to understand the model's weaknesses.  \n",
    "7. Test the model with external images (e.g., hand-drawn digits) to further assess its performance.\n",
    "\n",
    "**Estimated Completion Time:** 300 minutes"
   ]
  },
  {
   "cell_type": "markdown",
   "metadata": {},
   "source": [
    "1. Integrate TensorBoard callbacks for real-time tracking of training metrics."
   ]
  },
  {
   "cell_type": "code",
   "execution_count": 19,
   "metadata": {
    "id": "HuOTXjcQT7rm"
   },
   "outputs": [],
   "source": [
    "# Integrate TensorBoard callbacks for real-time tracking of training metrics.\n",
    "log_dir = 'C:/Users/638658/Downloads/logs/fit/' + datetime.datetime.now().strftime('%Y%m%d-%H%M%S')\n",
    "tensorboard_callback = TensorBoard(log_dir=log_dir, histogram_freq=1, write_images = True)"
   ]
  },
  {
   "cell_type": "markdown",
   "metadata": {},
   "source": [
    "2. Set up callbacks for model checkpoints, early stopping, and learning rate adjustments."
   ]
  },
  {
   "cell_type": "code",
   "execution_count": 20,
   "metadata": {},
   "outputs": [],
   "source": [
    "# Set up callback for model checkpoints\n",
    "checkpoint_filepath = 'C:/Users/638658/Downloads/logs/checkpoint.model.keras'\n",
    "checkpoint_callback = ModelCheckpoint(filepath = checkpoint_filepath,\n",
    "                                   save_best_only = True)"
   ]
  },
  {
   "cell_type": "code",
   "execution_count": 21,
   "metadata": {},
   "outputs": [],
   "source": [
    "# Set up callback for early stopping, and learning rate adjustments.\n",
    "earlystopping_callback = EarlyStopping(patience = 5, restore_best_weights = True)"
   ]
  },
  {
   "cell_type": "code",
   "execution_count": 22,
   "metadata": {},
   "outputs": [],
   "source": [
    "# Set up callback for learning rate adjustments\n",
    "reduce_lr_callback = ReduceLROnPlateau(patience = 5, factor = 0.2)"
   ]
  },
  {
   "cell_type": "markdown",
   "metadata": {},
   "source": [
    "3. Train the model with the training set while validating on the validation set."
   ]
  },
  {
   "cell_type": "code",
   "execution_count": 23,
   "metadata": {},
   "outputs": [],
   "source": [
    "model = compile_model(model)"
   ]
  },
  {
   "cell_type": "code",
   "execution_count": 24,
   "metadata": {},
   "outputs": [
    {
     "name": "stdout",
     "output_type": "stream",
     "text": [
      "Epoch 1/50\n",
      "\u001b[1m1688/1688\u001b[0m \u001b[32m━━━━━━━━━━━━━━━━━━━━\u001b[0m\u001b[37m\u001b[0m \u001b[1m11s\u001b[0m 6ms/step - categorical_accuracy: 0.7413 - loss: 0.7549 - val_categorical_accuracy: 0.9742 - val_loss: 0.0903 - learning_rate: 0.0100\n",
      "Epoch 2/50\n",
      "\u001b[1m1688/1688\u001b[0m \u001b[32m━━━━━━━━━━━━━━━━━━━━\u001b[0m\u001b[37m\u001b[0m \u001b[1m8s\u001b[0m 5ms/step - categorical_accuracy: 0.9429 - loss: 0.1857 - val_categorical_accuracy: 0.9792 - val_loss: 0.0671 - learning_rate: 0.0100\n",
      "Epoch 3/50\n",
      "\u001b[1m1688/1688\u001b[0m \u001b[32m━━━━━━━━━━━━━━━━━━━━\u001b[0m\u001b[37m\u001b[0m \u001b[1m8s\u001b[0m 5ms/step - categorical_accuracy: 0.9564 - loss: 0.1425 - val_categorical_accuracy: 0.9807 - val_loss: 0.0636 - learning_rate: 0.0100\n",
      "Epoch 4/50\n",
      "\u001b[1m1688/1688\u001b[0m \u001b[32m━━━━━━━━━━━━━━━━━━━━\u001b[0m\u001b[37m\u001b[0m \u001b[1m8s\u001b[0m 5ms/step - categorical_accuracy: 0.9628 - loss: 0.1264 - val_categorical_accuracy: 0.9858 - val_loss: 0.0496 - learning_rate: 0.0100\n",
      "Epoch 5/50\n",
      "\u001b[1m1688/1688\u001b[0m \u001b[32m━━━━━━━━━━━━━━━━━━━━\u001b[0m\u001b[37m\u001b[0m \u001b[1m9s\u001b[0m 5ms/step - categorical_accuracy: 0.9664 - loss: 0.1038 - val_categorical_accuracy: 0.9852 - val_loss: 0.0494 - learning_rate: 0.0100\n",
      "Epoch 6/50\n",
      "\u001b[1m1688/1688\u001b[0m \u001b[32m━━━━━━━━━━━━━━━━━━━━\u001b[0m\u001b[37m\u001b[0m \u001b[1m9s\u001b[0m 5ms/step - categorical_accuracy: 0.9688 - loss: 0.1004 - val_categorical_accuracy: 0.9862 - val_loss: 0.0456 - learning_rate: 0.0100\n",
      "Epoch 7/50\n",
      "\u001b[1m1688/1688\u001b[0m \u001b[32m━━━━━━━━━━━━━━━━━━━━\u001b[0m\u001b[37m\u001b[0m \u001b[1m8s\u001b[0m 5ms/step - categorical_accuracy: 0.9742 - loss: 0.0888 - val_categorical_accuracy: 0.9867 - val_loss: 0.0469 - learning_rate: 0.0100\n",
      "Epoch 8/50\n",
      "\u001b[1m1688/1688\u001b[0m \u001b[32m━━━━━━━━━━━━━━━━━━━━\u001b[0m\u001b[37m\u001b[0m \u001b[1m8s\u001b[0m 5ms/step - categorical_accuracy: 0.9715 - loss: 0.0919 - val_categorical_accuracy: 0.9860 - val_loss: 0.0447 - learning_rate: 0.0100\n",
      "Epoch 9/50\n",
      "\u001b[1m1688/1688\u001b[0m \u001b[32m━━━━━━━━━━━━━━━━━━━━\u001b[0m\u001b[37m\u001b[0m \u001b[1m9s\u001b[0m 5ms/step - categorical_accuracy: 0.9750 - loss: 0.0813 - val_categorical_accuracy: 0.9868 - val_loss: 0.0406 - learning_rate: 0.0100\n",
      "Epoch 10/50\n",
      "\u001b[1m1688/1688\u001b[0m \u001b[32m━━━━━━━━━━━━━━━━━━━━\u001b[0m\u001b[37m\u001b[0m \u001b[1m11s\u001b[0m 7ms/step - categorical_accuracy: 0.9757 - loss: 0.0793 - val_categorical_accuracy: 0.9868 - val_loss: 0.0432 - learning_rate: 0.0100\n",
      "Epoch 11/50\n",
      "\u001b[1m1688/1688\u001b[0m \u001b[32m━━━━━━━━━━━━━━━━━━━━\u001b[0m\u001b[37m\u001b[0m \u001b[1m12s\u001b[0m 7ms/step - categorical_accuracy: 0.9766 - loss: 0.0783 - val_categorical_accuracy: 0.9882 - val_loss: 0.0384 - learning_rate: 0.0100\n",
      "Epoch 12/50\n",
      "\u001b[1m1688/1688\u001b[0m \u001b[32m━━━━━━━━━━━━━━━━━━━━\u001b[0m\u001b[37m\u001b[0m \u001b[1m9s\u001b[0m 5ms/step - categorical_accuracy: 0.9778 - loss: 0.0769 - val_categorical_accuracy: 0.9880 - val_loss: 0.0408 - learning_rate: 0.0100\n",
      "Epoch 13/50\n",
      "\u001b[1m1688/1688\u001b[0m \u001b[32m━━━━━━━━━━━━━━━━━━━━\u001b[0m\u001b[37m\u001b[0m \u001b[1m8s\u001b[0m 5ms/step - categorical_accuracy: 0.9775 - loss: 0.0716 - val_categorical_accuracy: 0.9888 - val_loss: 0.0380 - learning_rate: 0.0100\n",
      "Epoch 14/50\n",
      "\u001b[1m1688/1688\u001b[0m \u001b[32m━━━━━━━━━━━━━━━━━━━━\u001b[0m\u001b[37m\u001b[0m \u001b[1m8s\u001b[0m 5ms/step - categorical_accuracy: 0.9781 - loss: 0.0714 - val_categorical_accuracy: 0.9882 - val_loss: 0.0385 - learning_rate: 0.0100\n",
      "Epoch 15/50\n",
      "\u001b[1m1688/1688\u001b[0m \u001b[32m━━━━━━━━━━━━━━━━━━━━\u001b[0m\u001b[37m\u001b[0m \u001b[1m9s\u001b[0m 5ms/step - categorical_accuracy: 0.9806 - loss: 0.0618 - val_categorical_accuracy: 0.9900 - val_loss: 0.0360 - learning_rate: 0.0100\n",
      "Epoch 16/50\n",
      "\u001b[1m1688/1688\u001b[0m \u001b[32m━━━━━━━━━━━━━━━━━━━━\u001b[0m\u001b[37m\u001b[0m \u001b[1m8s\u001b[0m 4ms/step - categorical_accuracy: 0.9811 - loss: 0.0643 - val_categorical_accuracy: 0.9890 - val_loss: 0.0356 - learning_rate: 0.0100\n",
      "Epoch 17/50\n",
      "\u001b[1m1688/1688\u001b[0m \u001b[32m━━━━━━━━━━━━━━━━━━━━\u001b[0m\u001b[37m\u001b[0m \u001b[1m9s\u001b[0m 6ms/step - categorical_accuracy: 0.9805 - loss: 0.0631 - val_categorical_accuracy: 0.9892 - val_loss: 0.0345 - learning_rate: 0.0100\n",
      "Epoch 18/50\n",
      "\u001b[1m1688/1688\u001b[0m \u001b[32m━━━━━━━━━━━━━━━━━━━━\u001b[0m\u001b[37m\u001b[0m \u001b[1m8s\u001b[0m 5ms/step - categorical_accuracy: 0.9804 - loss: 0.0637 - val_categorical_accuracy: 0.9892 - val_loss: 0.0403 - learning_rate: 0.0100\n",
      "Epoch 19/50\n",
      "\u001b[1m1688/1688\u001b[0m \u001b[32m━━━━━━━━━━━━━━━━━━━━\u001b[0m\u001b[37m\u001b[0m \u001b[1m9s\u001b[0m 5ms/step - categorical_accuracy: 0.9800 - loss: 0.0639 - val_categorical_accuracy: 0.9890 - val_loss: 0.0381 - learning_rate: 0.0100\n",
      "Epoch 20/50\n",
      "\u001b[1m1688/1688\u001b[0m \u001b[32m━━━━━━━━━━━━━━━━━━━━\u001b[0m\u001b[37m\u001b[0m \u001b[1m8s\u001b[0m 5ms/step - categorical_accuracy: 0.9820 - loss: 0.0593 - val_categorical_accuracy: 0.9878 - val_loss: 0.0387 - learning_rate: 0.0100\n",
      "Epoch 21/50\n",
      "\u001b[1m1688/1688\u001b[0m \u001b[32m━━━━━━━━━━━━━━━━━━━━\u001b[0m\u001b[37m\u001b[0m \u001b[1m9s\u001b[0m 6ms/step - categorical_accuracy: 0.9819 - loss: 0.0611 - val_categorical_accuracy: 0.9890 - val_loss: 0.0375 - learning_rate: 0.0100\n",
      "Epoch 22/50\n",
      "\u001b[1m1688/1688\u001b[0m \u001b[32m━━━━━━━━━━━━━━━━━━━━\u001b[0m\u001b[37m\u001b[0m \u001b[1m8s\u001b[0m 5ms/step - categorical_accuracy: 0.9814 - loss: 0.0592 - val_categorical_accuracy: 0.9872 - val_loss: 0.0411 - learning_rate: 0.0100\n"
     ]
    },
    {
     "data": {
      "text/plain": [
       "<keras.src.callbacks.history.History at 0x224194cc990>"
      ]
     },
     "execution_count": 24,
     "metadata": {},
     "output_type": "execute_result"
    }
   ],
   "source": [
    "model.fit(x = X_train_scaled,\n",
    "          y = y_train_categorical,\n",
    "          epochs = 50,\n",
    "          callbacks = [tensorboard_callback,\n",
    "                       checkpoint_callback,\n",
    "                       earlystopping_callback,\n",
    "                       reduce_lr_callback],\n",
    "          validation_data = (X_validation_scaled, y_validation_categorical) )"
   ]
  },
  {
   "cell_type": "markdown",
   "metadata": {
    "id": "pHcwFbyEUfJQ"
   },
   "source": [
    "---\n",
    "---"
   ]
  },
  {
   "cell_type": "markdown",
   "metadata": {
    "id": "mMLzoQiS2zW9"
   },
   "source": [
    "\n",
    "## **Task 5: Results Analysis and Model Tuning**  \n",
    "\n",
    "**Objective:** Analyze the results and refine the model for better performance.  \n",
    "\n",
    "**Activities:**\n",
    "\n",
    "1. Use TensorBoard to perform detailed analysis of model performance, including confusion matrices and histograms of model weights.\n",
    "2. Investigate layer activations and feature maps to understand what the model is learning.\n",
    "3. Experiment with different architectures using `model.get_config()` and hyperparameters to improve performance.\n",
    "4. Apply techniques like dropout and batch normalization to mitigate overfitting.\n",
    "5. Evaluate the effects of data augmentation on model robustness using TensorBoard.\n",
    "6. Conduct ablation studies, using TensorBoard to track and compare results.\n",
    "\n",
    "**Estimated Completion Time:** 240 minutes\n",
    "\n"
   ]
  },
  {
   "cell_type": "code",
   "execution_count": 25,
   "metadata": {
    "id": "7yavDlrJ57yS"
   },
   "outputs": [],
   "source": [
    "%load_ext tensorboard"
   ]
  },
  {
   "cell_type": "code",
   "execution_count": 26,
   "metadata": {},
   "outputs": [
    {
     "data": {
      "text/plain": [
       "Reusing TensorBoard on port 6006 (pid 36264), started 6 days, 18:02:28 ago. (Use '!kill 36264' to kill it.)"
      ]
     },
     "metadata": {},
     "output_type": "display_data"
    },
    {
     "data": {
      "text/html": [
       "\n",
       "      <iframe id=\"tensorboard-frame-c2bb129b198ba76e\" width=\"100%\" height=\"800\" frameborder=\"0\">\n",
       "      </iframe>\n",
       "      <script>\n",
       "        (function() {\n",
       "          const frame = document.getElementById(\"tensorboard-frame-c2bb129b198ba76e\");\n",
       "          const url = new URL(\"/\", window.location);\n",
       "          const port = 6006;\n",
       "          if (port) {\n",
       "            url.port = port;\n",
       "          }\n",
       "          frame.src = url;\n",
       "        })();\n",
       "      </script>\n",
       "    "
      ],
      "text/plain": [
       "<IPython.core.display.HTML object>"
      ]
     },
     "metadata": {},
     "output_type": "display_data"
    }
   ],
   "source": [
    "%tensorboard --logdir 'C:\\Users\\638658\\Downloads\\logs\\fit\\'"
   ]
  },
  {
   "cell_type": "code",
   "execution_count": 27,
   "metadata": {},
   "outputs": [],
   "source": [
    "# Create labels for each of the numerical digits\n",
    "labels = np.arange(0,10)"
   ]
  },
  {
   "cell_type": "code",
   "execution_count": 28,
   "metadata": {},
   "outputs": [
    {
     "name": "stdout",
     "output_type": "stream",
     "text": [
      "\u001b[1m313/313\u001b[0m \u001b[32m━━━━━━━━━━━━━━━━━━━━\u001b[0m\u001b[37m\u001b[0m \u001b[1m1s\u001b[0m 2ms/step\n"
     ]
    }
   ],
   "source": [
    "# Generate predictions from the model on X_test_scaled\n",
    "y_predictions = model.predict(X_test_scaled)"
   ]
  },
  {
   "cell_type": "code",
   "execution_count": 29,
   "metadata": {},
   "outputs": [
    {
     "data": {
      "image/png": "[encoded data removed]",
      "text/plain": [
       "<Figure size 640x480 with 2 Axes>"
      ]
     },
     "metadata": {},
     "output_type": "display_data"
    }
   ],
   "source": [
    "# Generate the confusion matrix to visualize the model's errors\n",
    "cm = confusion_matrix(y_test, np.argmax(y_predictions,axis=1), labels = labels)\n",
    "disp = ConfusionMatrixDisplay(confusion_matrix = cm, display_labels = labels)\n",
    "disp.plot()\n",
    "plt.show()"
   ]
  },
  {
   "cell_type": "markdown",
   "metadata": {},
   "source": [
    "The most errors occur between 5 and 3.\n",
    "\n",
    "The model seems to have the most difficulty discerning 9s"
   ]
  },
  {
   "cell_type": "code",
   "execution_count": 30,
   "metadata": {
    "id": "zGHeCpjE6Jf-"
   },
   "outputs": [
    {
     "name": "stdout",
     "output_type": "stream",
     "text": [
      "0 was confused for 1 1 times...\n",
      "1 was confused for 5 1 times...\n",
      "2 was confused for 1 2 times...\n",
      "3 was confused for 5 3 times...\n",
      "4 was confused for 8 2 times...\n",
      "5 was confused for 3 6 times...\n",
      "6 was confused for 0 7 times...\n",
      "7 was confused for 2 12 times...\n",
      "8 was confused for 0 1 times...\n",
      "9 was confused for 7 6 times...\n"
     ]
    }
   ],
   "source": [
    "# Find which numbers are confused for others the most\n",
    "for r in range(cm.shape[0]):\n",
    "  cm[r,r] = 0\n",
    "\n",
    "max_cf = cm.max(axis = 1)\n",
    "\n",
    "for r in range(cm.shape[0]):\n",
    "   m = np.argmax(cm[r])\n",
    "   print (f'{r} was confused for {m} {cm[r,m]} times...')"
   ]
  },
  {
   "cell_type": "code",
   "execution_count": 31,
   "metadata": {},
   "outputs": [],
   "source": [
    "# Adding Batch Normalization to the existing architecture to see if performance improves. \n",
    "def build_model_tuned():\n",
    "    \n",
    "    input_shape = (28, 28, 1) # 1 is the count of channels (no RGB)\n",
    "\n",
    "    model = keras.Sequential([\n",
    "        # // The input layer\n",
    "        layers.Input(shape=input_shape),\n",
    "    \n",
    "        # // Hidden layers\n",
    "        # Kernel initializer = glorot_uniform, bias_initializer = zeros\n",
    "        layers.Conv2D(32, kernel_size=(3, 3), activation=\"relu\", name='CL1'),\n",
    "        layers.BatchNormalization(axis=1),\n",
    "        layers.MaxPooling2D(pool_size=(2, 2), name='MPL1'),\n",
    "        layers.Dropout(rate=0.2),\n",
    "\n",
    "        # // Hidden layers\n",
    "        # Kernel initializer = glorot_uniform, bias_initializer = zeros\n",
    "        layers.Conv2D(16, kernel_size=(3, 3), activation=\"relu\", name='CL2'),\n",
    "        layers.BatchNormalization(axis=1),\n",
    "        layers.MaxPooling2D(pool_size=(2, 2), name='MPL2'),\n",
    "        layers.Dropout(rate=0.2),\n",
    "    \n",
    "        layers.Flatten(name='FL'),\n",
    "\n",
    "        # // Hidden layers\n",
    "        # Kernel initializer = glorot_uniform, bias_initializer = zeros\n",
    "        layers.Dense(32, activation='relu', name='DL1'),\n",
    "        layers.BatchNormalization(axis=1),\n",
    "        layers.Dropout(rate=0.2),\n",
    "        \n",
    "        # // The model's output layer\n",
    "        # We create a classifier for our model and set it to 10 for each number 0-9\n",
    "        layers.Dense(10, name=\"OUTL\", activation='softmax'),\n",
    "      ])\n",
    "\n",
    "    model.summary()\n",
    "    print (model.inputs, model.outputs)\n",
    "\n",
    "    return model"
   ]
  },
  {
   "cell_type": "code",
   "execution_count": 32,
   "metadata": {},
   "outputs": [
    {
     "data": {
      "text/html": [
       "<pre style=\"white-space:pre;overflow-x:auto;line-height:normal;font-family:Menlo,'DejaVu Sans Mono',consolas,'Courier New',monospace\"><span style=\"font-weight: bold\">Model: \"sequential_1\"</span>\n",
       "</pre>\n"
      ],
      "text/plain": [
       "\u001b[1mModel: \"sequential_1\"\u001b[0m\n"
      ]
     },
     "metadata": {},
     "output_type": "display_data"
    },
    {
     "data": {
      "text/html": [
       "<pre style=\"white-space:pre;overflow-x:auto;line-height:normal;font-family:Menlo,'DejaVu Sans Mono',consolas,'Courier New',monospace\">┏━━━━━━━━━━━━━━━━━━━━━━━━━━━━━━━━━┳━━━━━━━━━━━━━━━━━━━━━━━━┳━━━━━━━━━━━━━━━┓\n",
       "┃<span style=\"font-weight: bold\"> Layer (type)                    </span>┃<span style=\"font-weight: bold\"> Output Shape           </span>┃<span style=\"font-weight: bold\">       Param # </span>┃\n",
       "┡━━━━━━━━━━━━━━━━━━━━━━━━━━━━━━━━━╇━━━━━━━━━━━━━━━━━━━━━━━━╇━━━━━━━━━━━━━━━┩\n",
       "│ CL1 (<span style=\"color: #0087ff; text-decoration-color: #0087ff\">Conv2D</span>)                    │ (<span style=\"color: #00d7ff; text-decoration-color: #00d7ff\">None</span>, <span style=\"color: #00af00; text-decoration-color: #00af00\">26</span>, <span style=\"color: #00af00; text-decoration-color: #00af00\">26</span>, <span style=\"color: #00af00; text-decoration-color: #00af00\">32</span>)     │           <span style=\"color: #00af00; text-decoration-color: #00af00\">320</span> │\n",
       "├─────────────────────────────────┼────────────────────────┼───────────────┤\n",
       "│ batch_normalization             │ (<span style=\"color: #00d7ff; text-decoration-color: #00d7ff\">None</span>, <span style=\"color: #00af00; text-decoration-color: #00af00\">26</span>, <span style=\"color: #00af00; text-decoration-color: #00af00\">26</span>, <span style=\"color: #00af00; text-decoration-color: #00af00\">32</span>)     │           <span style=\"color: #00af00; text-decoration-color: #00af00\">104</span> │\n",
       "│ (<span style=\"color: #0087ff; text-decoration-color: #0087ff\">BatchNormalization</span>)            │                        │               │\n",
       "├─────────────────────────────────┼────────────────────────┼───────────────┤\n",
       "│ MPL1 (<span style=\"color: #0087ff; text-decoration-color: #0087ff\">MaxPooling2D</span>)             │ (<span style=\"color: #00d7ff; text-decoration-color: #00d7ff\">None</span>, <span style=\"color: #00af00; text-decoration-color: #00af00\">13</span>, <span style=\"color: #00af00; text-decoration-color: #00af00\">13</span>, <span style=\"color: #00af00; text-decoration-color: #00af00\">32</span>)     │             <span style=\"color: #00af00; text-decoration-color: #00af00\">0</span> │\n",
       "├─────────────────────────────────┼────────────────────────┼───────────────┤\n",
       "│ dropout_3 (<span style=\"color: #0087ff; text-decoration-color: #0087ff\">Dropout</span>)             │ (<span style=\"color: #00d7ff; text-decoration-color: #00d7ff\">None</span>, <span style=\"color: #00af00; text-decoration-color: #00af00\">13</span>, <span style=\"color: #00af00; text-decoration-color: #00af00\">13</span>, <span style=\"color: #00af00; text-decoration-color: #00af00\">32</span>)     │             <span style=\"color: #00af00; text-decoration-color: #00af00\">0</span> │\n",
       "├─────────────────────────────────┼────────────────────────┼───────────────┤\n",
       "│ CL2 (<span style=\"color: #0087ff; text-decoration-color: #0087ff\">Conv2D</span>)                    │ (<span style=\"color: #00d7ff; text-decoration-color: #00d7ff\">None</span>, <span style=\"color: #00af00; text-decoration-color: #00af00\">11</span>, <span style=\"color: #00af00; text-decoration-color: #00af00\">11</span>, <span style=\"color: #00af00; text-decoration-color: #00af00\">16</span>)     │         <span style=\"color: #00af00; text-decoration-color: #00af00\">4,624</span> │\n",
       "├─────────────────────────────────┼────────────────────────┼───────────────┤\n",
       "│ batch_normalization_1           │ (<span style=\"color: #00d7ff; text-decoration-color: #00d7ff\">None</span>, <span style=\"color: #00af00; text-decoration-color: #00af00\">11</span>, <span style=\"color: #00af00; text-decoration-color: #00af00\">11</span>, <span style=\"color: #00af00; text-decoration-color: #00af00\">16</span>)     │            <span style=\"color: #00af00; text-decoration-color: #00af00\">44</span> │\n",
       "│ (<span style=\"color: #0087ff; text-decoration-color: #0087ff\">BatchNormalization</span>)            │                        │               │\n",
       "├─────────────────────────────────┼────────────────────────┼───────────────┤\n",
       "│ MPL2 (<span style=\"color: #0087ff; text-decoration-color: #0087ff\">MaxPooling2D</span>)             │ (<span style=\"color: #00d7ff; text-decoration-color: #00d7ff\">None</span>, <span style=\"color: #00af00; text-decoration-color: #00af00\">5</span>, <span style=\"color: #00af00; text-decoration-color: #00af00\">5</span>, <span style=\"color: #00af00; text-decoration-color: #00af00\">16</span>)       │             <span style=\"color: #00af00; text-decoration-color: #00af00\">0</span> │\n",
       "├─────────────────────────────────┼────────────────────────┼───────────────┤\n",
       "│ dropout_4 (<span style=\"color: #0087ff; text-decoration-color: #0087ff\">Dropout</span>)             │ (<span style=\"color: #00d7ff; text-decoration-color: #00d7ff\">None</span>, <span style=\"color: #00af00; text-decoration-color: #00af00\">5</span>, <span style=\"color: #00af00; text-decoration-color: #00af00\">5</span>, <span style=\"color: #00af00; text-decoration-color: #00af00\">16</span>)       │             <span style=\"color: #00af00; text-decoration-color: #00af00\">0</span> │\n",
       "├─────────────────────────────────┼────────────────────────┼───────────────┤\n",
       "│ FL (<span style=\"color: #0087ff; text-decoration-color: #0087ff\">Flatten</span>)                    │ (<span style=\"color: #00d7ff; text-decoration-color: #00d7ff\">None</span>, <span style=\"color: #00af00; text-decoration-color: #00af00\">400</span>)            │             <span style=\"color: #00af00; text-decoration-color: #00af00\">0</span> │\n",
       "├─────────────────────────────────┼────────────────────────┼───────────────┤\n",
       "│ DL1 (<span style=\"color: #0087ff; text-decoration-color: #0087ff\">Dense</span>)                     │ (<span style=\"color: #00d7ff; text-decoration-color: #00d7ff\">None</span>, <span style=\"color: #00af00; text-decoration-color: #00af00\">32</span>)             │        <span style=\"color: #00af00; text-decoration-color: #00af00\">12,832</span> │\n",
       "├─────────────────────────────────┼────────────────────────┼───────────────┤\n",
       "│ batch_normalization_2           │ (<span style=\"color: #00d7ff; text-decoration-color: #00d7ff\">None</span>, <span style=\"color: #00af00; text-decoration-color: #00af00\">32</span>)             │           <span style=\"color: #00af00; text-decoration-color: #00af00\">128</span> │\n",
       "│ (<span style=\"color: #0087ff; text-decoration-color: #0087ff\">BatchNormalization</span>)            │                        │               │\n",
       "├─────────────────────────────────┼────────────────────────┼───────────────┤\n",
       "│ dropout_5 (<span style=\"color: #0087ff; text-decoration-color: #0087ff\">Dropout</span>)             │ (<span style=\"color: #00d7ff; text-decoration-color: #00d7ff\">None</span>, <span style=\"color: #00af00; text-decoration-color: #00af00\">32</span>)             │             <span style=\"color: #00af00; text-decoration-color: #00af00\">0</span> │\n",
       "├─────────────────────────────────┼────────────────────────┼───────────────┤\n",
       "│ OUTL (<span style=\"color: #0087ff; text-decoration-color: #0087ff\">Dense</span>)                    │ (<span style=\"color: #00d7ff; text-decoration-color: #00d7ff\">None</span>, <span style=\"color: #00af00; text-decoration-color: #00af00\">10</span>)             │           <span style=\"color: #00af00; text-decoration-color: #00af00\">330</span> │\n",
       "└─────────────────────────────────┴────────────────────────┴───────────────┘\n",
       "</pre>\n"
      ],
      "text/plain": [
       "┏━━━━━━━━━━━━━━━━━━━━━━━━━━━━━━━━━┳━━━━━━━━━━━━━━━━━━━━━━━━┳━━━━━━━━━━━━━━━┓\n",
       "┃\u001b[1m \u001b[0m\u001b[1mLayer (type)                   \u001b[0m\u001b[1m \u001b[0m┃\u001b[1m \u001b[0m\u001b[1mOutput Shape          \u001b[0m\u001b[1m \u001b[0m┃\u001b[1m \u001b[0m\u001b[1m      Param #\u001b[0m\u001b[1m \u001b[0m┃\n",
       "┡━━━━━━━━━━━━━━━━━━━━━━━━━━━━━━━━━╇━━━━━━━━━━━━━━━━━━━━━━━━╇━━━━━━━━━━━━━━━┩\n",
       "│ CL1 (\u001b[38;5;33mConv2D\u001b[0m)                    │ (\u001b[38;5;45mNone\u001b[0m, \u001b[38;5;34m26\u001b[0m, \u001b[38;5;34m26\u001b[0m, \u001b[38;5;34m32\u001b[0m)     │           \u001b[38;5;34m320\u001b[0m │\n",
       "├─────────────────────────────────┼────────────────────────┼───────────────┤\n",
       "│ batch_normalization             │ (\u001b[38;5;45mNone\u001b[0m, \u001b[38;5;34m26\u001b[0m, \u001b[38;5;34m26\u001b[0m, \u001b[38;5;34m32\u001b[0m)     │           \u001b[38;5;34m104\u001b[0m │\n",
       "│ (\u001b[38;5;33mBatchNormalization\u001b[0m)            │                        │               │\n",
       "├─────────────────────────────────┼────────────────────────┼───────────────┤\n",
       "│ MPL1 (\u001b[38;5;33mMaxPooling2D\u001b[0m)             │ (\u001b[38;5;45mNone\u001b[0m, \u001b[38;5;34m13\u001b[0m, \u001b[38;5;34m13\u001b[0m, \u001b[38;5;34m32\u001b[0m)     │             \u001b[38;5;34m0\u001b[0m │\n",
       "├─────────────────────────────────┼────────────────────────┼───────────────┤\n",
       "│ dropout_3 (\u001b[38;5;33mDropout\u001b[0m)             │ (\u001b[38;5;45mNone\u001b[0m, \u001b[38;5;34m13\u001b[0m, \u001b[38;5;34m13\u001b[0m, \u001b[38;5;34m32\u001b[0m)     │             \u001b[38;5;34m0\u001b[0m │\n",
       "├─────────────────────────────────┼────────────────────────┼───────────────┤\n",
       "│ CL2 (\u001b[38;5;33mConv2D\u001b[0m)                    │ (\u001b[38;5;45mNone\u001b[0m, \u001b[38;5;34m11\u001b[0m, \u001b[38;5;34m11\u001b[0m, \u001b[38;5;34m16\u001b[0m)     │         \u001b[38;5;34m4,624\u001b[0m │\n",
       "├─────────────────────────────────┼────────────────────────┼───────────────┤\n",
       "│ batch_normalization_1           │ (\u001b[38;5;45mNone\u001b[0m, \u001b[38;5;34m11\u001b[0m, \u001b[38;5;34m11\u001b[0m, \u001b[38;5;34m16\u001b[0m)     │            \u001b[38;5;34m44\u001b[0m │\n",
       "│ (\u001b[38;5;33mBatchNormalization\u001b[0m)            │                        │               │\n",
       "├─────────────────────────────────┼────────────────────────┼───────────────┤\n",
       "│ MPL2 (\u001b[38;5;33mMaxPooling2D\u001b[0m)             │ (\u001b[38;5;45mNone\u001b[0m, \u001b[38;5;34m5\u001b[0m, \u001b[38;5;34m5\u001b[0m, \u001b[38;5;34m16\u001b[0m)       │             \u001b[38;5;34m0\u001b[0m │\n",
       "├─────────────────────────────────┼────────────────────────┼───────────────┤\n",
       "│ dropout_4 (\u001b[38;5;33mDropout\u001b[0m)             │ (\u001b[38;5;45mNone\u001b[0m, \u001b[38;5;34m5\u001b[0m, \u001b[38;5;34m5\u001b[0m, \u001b[38;5;34m16\u001b[0m)       │             \u001b[38;5;34m0\u001b[0m │\n",
       "├─────────────────────────────────┼────────────────────────┼───────────────┤\n",
       "│ FL (\u001b[38;5;33mFlatten\u001b[0m)                    │ (\u001b[38;5;45mNone\u001b[0m, \u001b[38;5;34m400\u001b[0m)            │             \u001b[38;5;34m0\u001b[0m │\n",
       "├─────────────────────────────────┼────────────────────────┼───────────────┤\n",
       "│ DL1 (\u001b[38;5;33mDense\u001b[0m)                     │ (\u001b[38;5;45mNone\u001b[0m, \u001b[38;5;34m32\u001b[0m)             │        \u001b[38;5;34m12,832\u001b[0m │\n",
       "├─────────────────────────────────┼────────────────────────┼───────────────┤\n",
       "│ batch_normalization_2           │ (\u001b[38;5;45mNone\u001b[0m, \u001b[38;5;34m32\u001b[0m)             │           \u001b[38;5;34m128\u001b[0m │\n",
       "│ (\u001b[38;5;33mBatchNormalization\u001b[0m)            │                        │               │\n",
       "├─────────────────────────────────┼────────────────────────┼───────────────┤\n",
       "│ dropout_5 (\u001b[38;5;33mDropout\u001b[0m)             │ (\u001b[38;5;45mNone\u001b[0m, \u001b[38;5;34m32\u001b[0m)             │             \u001b[38;5;34m0\u001b[0m │\n",
       "├─────────────────────────────────┼────────────────────────┼───────────────┤\n",
       "│ OUTL (\u001b[38;5;33mDense\u001b[0m)                    │ (\u001b[38;5;45mNone\u001b[0m, \u001b[38;5;34m10\u001b[0m)             │           \u001b[38;5;34m330\u001b[0m │\n",
       "└─────────────────────────────────┴────────────────────────┴───────────────┘\n"
      ]
     },
     "metadata": {},
     "output_type": "display_data"
    },
    {
     "data": {
      "text/html": [
       "<pre style=\"white-space:pre;overflow-x:auto;line-height:normal;font-family:Menlo,'DejaVu Sans Mono',consolas,'Courier New',monospace\"><span style=\"font-weight: bold\"> Total params: </span><span style=\"color: #00af00; text-decoration-color: #00af00\">18,382</span> (71.80 KB)\n",
       "</pre>\n"
      ],
      "text/plain": [
       "\u001b[1m Total params: \u001b[0m\u001b[38;5;34m18,382\u001b[0m (71.80 KB)\n"
      ]
     },
     "metadata": {},
     "output_type": "display_data"
    },
    {
     "data": {
      "text/html": [
       "<pre style=\"white-space:pre;overflow-x:auto;line-height:normal;font-family:Menlo,'DejaVu Sans Mono',consolas,'Courier New',monospace\"><span style=\"font-weight: bold\"> Trainable params: </span><span style=\"color: #00af00; text-decoration-color: #00af00\">18,244</span> (71.27 KB)\n",
       "</pre>\n"
      ],
      "text/plain": [
       "\u001b[1m Trainable params: \u001b[0m\u001b[38;5;34m18,244\u001b[0m (71.27 KB)\n"
      ]
     },
     "metadata": {},
     "output_type": "display_data"
    },
    {
     "data": {
      "text/html": [
       "<pre style=\"white-space:pre;overflow-x:auto;line-height:normal;font-family:Menlo,'DejaVu Sans Mono',consolas,'Courier New',monospace\"><span style=\"font-weight: bold\"> Non-trainable params: </span><span style=\"color: #00af00; text-decoration-color: #00af00\">138</span> (552.00 B)\n",
       "</pre>\n"
      ],
      "text/plain": [
       "\u001b[1m Non-trainable params: \u001b[0m\u001b[38;5;34m138\u001b[0m (552.00 B)\n"
      ]
     },
     "metadata": {},
     "output_type": "display_data"
    },
    {
     "name": "stdout",
     "output_type": "stream",
     "text": [
      "[<KerasTensor shape=(None, 28, 28, 1), dtype=float32, sparse=None, name=keras_tensor_11>] [<KerasTensor shape=(None, 10), dtype=float32, sparse=False, name=keras_tensor_24>]\n"
     ]
    }
   ],
   "source": [
    "model_tuned = build_model_tuned()"
   ]
  },
  {
   "cell_type": "code",
   "execution_count": 33,
   "metadata": {},
   "outputs": [],
   "source": [
    "# Compile the tuned model\n",
    "model_tuned = compile_model(model_tuned)"
   ]
  },
  {
   "cell_type": "code",
   "execution_count": 34,
   "metadata": {},
   "outputs": [
    {
     "name": "stdout",
     "output_type": "stream",
     "text": [
      "Epoch 1/50\n",
      "\u001b[1m1688/1688\u001b[0m \u001b[32m━━━━━━━━━━━━━━━━━━━━\u001b[0m\u001b[37m\u001b[0m \u001b[1m17s\u001b[0m 9ms/step - categorical_accuracy: 0.8349 - loss: 0.5317 - val_categorical_accuracy: 0.9767 - val_loss: 0.0756 - learning_rate: 0.0100\n",
      "Epoch 2/50\n",
      "\u001b[1m1688/1688\u001b[0m \u001b[32m━━━━━━━━━━━━━━━━━━━━\u001b[0m\u001b[37m\u001b[0m \u001b[1m14s\u001b[0m 9ms/step - categorical_accuracy: 0.9629 - loss: 0.1215 - val_categorical_accuracy: 0.9837 - val_loss: 0.0535 - learning_rate: 0.0100\n",
      "Epoch 3/50\n",
      "\u001b[1m1688/1688\u001b[0m \u001b[32m━━━━━━━━━━━━━━━━━━━━\u001b[0m\u001b[37m\u001b[0m \u001b[1m14s\u001b[0m 8ms/step - categorical_accuracy: 0.9689 - loss: 0.0993 - val_categorical_accuracy: 0.9872 - val_loss: 0.0429 - learning_rate: 0.0100\n",
      "Epoch 4/50\n",
      "\u001b[1m1688/1688\u001b[0m \u001b[32m━━━━━━━━━━━━━━━━━━━━\u001b[0m\u001b[37m\u001b[0m \u001b[1m14s\u001b[0m 8ms/step - categorical_accuracy: 0.9730 - loss: 0.0895 - val_categorical_accuracy: 0.9852 - val_loss: 0.0452 - learning_rate: 0.0100\n",
      "Epoch 5/50\n",
      "\u001b[1m1688/1688\u001b[0m \u001b[32m━━━━━━━━━━━━━━━━━━━━\u001b[0m\u001b[37m\u001b[0m \u001b[1m15s\u001b[0m 9ms/step - categorical_accuracy: 0.9762 - loss: 0.0800 - val_categorical_accuracy: 0.9885 - val_loss: 0.0391 - learning_rate: 0.0100\n"
     ]
    },
    {
     "data": {
      "text/plain": [
       "<keras.src.callbacks.history.History at 0x22452b15b10>"
      ]
     },
     "execution_count": 34,
     "metadata": {},
     "output_type": "execute_result"
    }
   ],
   "source": [
    "# Fit the tuned model using the training and validation data\n",
    "model_tuned.fit(x = X_train_scaled,\n",
    "          y = y_train_categorical,\n",
    "          epochs = 50,\n",
    "          callbacks = [tensorboard_callback,\n",
    "                       checkpoint_callback,\n",
    "                       earlystopping_callback,\n",
    "                       reduce_lr_callback],\n",
    "          validation_data = (X_validation_scaled, y_validation_categorical) )"
   ]
  },
  {
   "cell_type": "code",
   "execution_count": 35,
   "metadata": {},
   "outputs": [
    {
     "data": {
      "text/plain": [
       "Reusing TensorBoard on port 6006 (pid 36264), started 6 days, 18:03:45 ago. (Use '!kill 36264' to kill it.)"
      ]
     },
     "metadata": {},
     "output_type": "display_data"
    },
    {
     "data": {
      "text/html": [
       "\n",
       "      <iframe id=\"tensorboard-frame-fee2c77a38f26392\" width=\"100%\" height=\"800\" frameborder=\"0\">\n",
       "      </iframe>\n",
       "      <script>\n",
       "        (function() {\n",
       "          const frame = document.getElementById(\"tensorboard-frame-fee2c77a38f26392\");\n",
       "          const url = new URL(\"/\", window.location);\n",
       "          const port = 6006;\n",
       "          if (port) {\n",
       "            url.port = port;\n",
       "          }\n",
       "          frame.src = url;\n",
       "        })();\n",
       "      </script>\n",
       "    "
      ],
      "text/plain": [
       "<IPython.core.display.HTML object>"
      ]
     },
     "metadata": {},
     "output_type": "display_data"
    }
   ],
   "source": [
    "%tensorboard --logdir 'C:\\Users\\638658\\Downloads\\logs\\fit\\'"
   ]
  },
  {
   "cell_type": "markdown",
   "metadata": {
    "id": "9PcEAXv8T6qN"
   },
   "source": [
    "---\n",
    "---\n"
   ]
  },
  {
   "cell_type": "markdown",
   "metadata": {
    "id": "jJUFy96o2zUS"
   },
   "source": [
    "\n",
    "## **Task 6: Model Deployment and Documentation**  \n",
    "\n",
    "**Objective:** Prepare the model for deployment using MLflow and document the project for reproducibility and sharing. Create and test an API endpoint for the model using Postman.\n",
    "\n",
    "**Activities:**\n",
    "\n",
    "1. Convert the trained model into a MLflow-compatible format and log the model in MLflow.\n",
    "2. Set up MLflow tracking server to manage and store model artifacts.\n",
    "3. Develop a Flask or FastAPI application that loads the MLflow model and creates an API endpoint for making predictions.\n",
    "4. Test the API endpoint locally to ensure it is working as expected.\n",
    "5. Use MLflow to package the API application into a Docker container for easy deployment and scaling.\n",
    "6. Write comprehensive documentation, detailing the steps for model conversion, MLflow integration, API usage, and deployment process.\n",
    "7. Use Postman to create and send requests to the deployed API endpoint, validating the model's responses and functionality.\n",
    "8. Create a GitHub repository to host the project code, MLflow tracking information, documentation, and deployment instructions.\n",
    "\n",
    "**Estimated Completion Time:** 240 minutes\n",
    "\n",
    "---\n",
    "---\n"
   ]
  },
  {
   "cell_type": "code",
   "execution_count": 36,
   "metadata": {
    "id": "Q1enQ8rmJRwx"
   },
   "outputs": [],
   "source": [
    "search_space = {    \n",
    "    'filter_1': hp.quniform('filter_1',16, 512, 8),\n",
    "    'kernel_size_1': hp.choice('kernel_size_1', [(3,3),(5,5)]),\n",
    "    'dropout_rate_1': hp.uniform('dropout_rate_1', 0.2, 0.7),\n",
    "    'filter_2': hp.quniform('filter_2',16, 512, 8),\n",
    "    'kernel_size_2': hp.choice('kernel_size_2', [(3,3),(5,5)]),\n",
    "    'dropout_rate_2': hp.uniform('dropout_rate_2', 0.2, 0.7),\n",
    "    'filter_3': hp.quniform('filter_3', 16, 512, 8),\n",
    "    'dropout_rate_3': hp.uniform('dropout_rate_3', 0.2, 0.7),\n",
    "}"
   ]
  },
  {
   "cell_type": "code",
   "execution_count": 43,
   "metadata": {},
   "outputs": [],
   "source": [
    "# Adding Batch Normalization to the existing architecture to see if performance improves. \n",
    "def objective(params):\n",
    "    # Load in MNIST Data\n",
    "    (X_train, y_train), (X_test, y_test) = keras.datasets.mnist.load_data()\n",
    "    \n",
    "    # Normalize the image data by diving by 255\n",
    "    X_train_scaled = X_train / 255\n",
    "    X_test_scaled = X_test / 255\n",
    "    \n",
    "    # expand_dims to allow to signify that the image is greyscale\n",
    "    X_train_scaled = np.expand_dims(X_train_scaled, axis = 3)\n",
    "    X_test_scaled = np.expand_dims(X_test_scaled, axis = 3)\n",
    "\n",
    "    # Add validation data\n",
    "    X_train_scaled, X_validation_scaled, y_train, y_validation = train_test_split(X_train_scaled, y_train, test_size = 0.1, random_state = 42)\n",
    "\n",
    "    # Convert target variable to categorical\n",
    "    y_train_categorical = to_categorical(y_train, num_classes = 10)\n",
    "    y_validation_categorical = to_categorical(y_validation, num_classes = 10)\n",
    "    y_test_categorical = to_categorical(y_test, num_classes = 10)\n",
    "    \n",
    "    input_shape = (28, 28, 1) # 1 is the count of channels (no RGB)\n",
    "\n",
    "    # Set up callback for model checkpoints\n",
    "    checkpoint_filepath = 'C:/Users/638658/Downloads/logs/checkpoint.model.keras'\n",
    "    checkpoint_callback = ModelCheckpoint(filepath = checkpoint_filepath,\n",
    "                                       save_best_only = True)\n",
    "\n",
    "    # Set up callback for early stopping, and learning rate adjustments.\n",
    "    earlystopping_callback = EarlyStopping(patience = 5, restore_best_weights = True)\n",
    "\n",
    "    # Set up callback for learning rate adjustments\n",
    "    reduce_lr_callback = ReduceLROnPlateau(patience = 5, factor = 0.2)\n",
    "\n",
    "    mlflow.keras.autolog()\n",
    "    with mlflow.start_run():\n",
    "        # Set up TensorBoard logging\n",
    "        log_dir = os.path.join('C:/Users/638658/Downloads/logs/fit/', f'run_{mlflow.active_run().info.run_id}')\n",
    "        tensorboard_callback = TensorBoard(log_dir=log_dir, histogram_freq=1)\n",
    "        model = keras.Sequential([\n",
    "            # // The input layer\n",
    "            layers.Input(shape=input_shape),\n",
    "        \n",
    "            # // Hidden layers\n",
    "            # Kernel initializer = glorot_uniform, bias_initializer = zeros\n",
    "            layers.Conv2D(int(params['filter_1']), kernel_size=params['kernel_size_1'], activation=\"relu\", name='CL1'),\n",
    "            layers.BatchNormalization(axis=1),\n",
    "            layers.MaxPooling2D(pool_size=(2, 2), name='MPL1'),\n",
    "            layers.Dropout(rate=params['dropout_rate_1']),\n",
    "    \n",
    "            # // Hidden layers\n",
    "            # Kernel initializer = glorot_uniform, bias_initializer = zeros\n",
    "            layers.Conv2D(int(params['filter_2']), kernel_size=params['kernel_size_2'], activation=\"relu\", name='CL2'),\n",
    "            layers.BatchNormalization(axis=1),\n",
    "            layers.MaxPooling2D(pool_size=(2, 2), name='MPL2'),\n",
    "            layers.Dropout(rate=params['dropout_rate_2']),\n",
    "        \n",
    "            layers.Flatten(name='FL'),\n",
    "    \n",
    "            # // Hidden layers\n",
    "            # Kernel initializer = glorot_uniform, bias_initializer = zeros\n",
    "            layers.Dense(int(params['filter_3']), activation='relu', name='DL1'),\n",
    "            layers.BatchNormalization(axis=1),\n",
    "            layers.Dropout(rate=params['dropout_rate_3']),\n",
    "            \n",
    "            # // The model's output layer\n",
    "            # We create a classifier for our model and set it to 10 for each number 0-9\n",
    "            layers.Dense(10, name=\"OUTL\", activation='softmax'),\n",
    "          ])\n",
    "\n",
    "        model.compile(    \n",
    "              # Optimizer is Stochastic Gradient Descent with Nesterov Momentum\n",
    "              optimizer=SGD(learning_rate=1e-2, momentum=0.9, nesterov=True),\n",
    "            \n",
    "              # The loss function that we need to minimize\n",
    "              loss=keras.losses.CategoricalCrossentropy(),  # we have a lot of \"holes\" in the dataset (the black pixels with a value of 0)\n",
    "             \n",
    "              # The metrics (can be more than one) to monitor\n",
    "              metrics=[keras.metrics.CategoricalAccuracy()],\n",
    "            )\n",
    "\n",
    "        # Train model with TensorBoard logging, Checkpoints, Early Stopping, and Reduce LR\n",
    "        model.fit(x = X_train_scaled,\n",
    "                  y = y_train_categorical,\n",
    "                  epochs = 10,\n",
    "                  callbacks = [tensorboard_callback,\n",
    "                               checkpoint_callback,\n",
    "                               earlystopping_callback,\n",
    "                               reduce_lr_callback],\n",
    "                  validation_data = (X_validation_scaled, y_validation_categorical),\n",
    "                  verbose = 0)\n",
    "\n",
    "        # Evaluate model\n",
    "        score = model.evaluate(X_test_scaled, y_test_categorical, verbose=0)\n",
    "        mlflow.log_metric(\"Test loss\", score[0])\n",
    "        mlflow.log_metric(\"Test accuracy\", score[1])\n",
    "\n",
    "        # Log TensorBoard logs as MLflow artifacts\n",
    "        mlflow.log_artifacts(log_dir, \"tensorboard_logs\")\n",
    "\n",
    "        return {'loss': score[0], 'status': STATUS_OK, 'model': model}"
   ]
  },
  {
   "cell_type": "code",
   "execution_count": 44,
   "metadata": {
    "scrolled": true
   },
   "outputs": [
    {
     "name": "stdout",
     "output_type": "stream",
     "text": [
      "  0%|          | 0/5 [00:00<?, ?trial/s, best loss=?]"
     ]
    },
    {
     "name": "stderr",
     "output_type": "stream",
     "text": [
      "2024/04/15 11:47:25 WARNING mlflow.utils.autologging_utils: You are using an unsupported version of keras. If you encounter errors during autologging, try upgrading / downgrading keras to a supported version, or try upgrading MLflow.\n",
      "\n"
     ]
    },
    {
     "data": {
      "text/html": [
       "<pre style=\"white-space:pre;overflow-x:auto;line-height:normal;font-family:Menlo,'DejaVu Sans Mono',consolas,'Courier New',monospace\"></pre>\n"
      ],
      "text/plain": []
     },
     "metadata": {},
     "output_type": "display_data"
    },
    {
     "name": "stdout",
     "output_type": "stream",
     "text": [
      " 20%|██        | 1/5 [08:16<33:05, 496.37s/trial, best loss: 0.023873213678598404]"
     ]
    },
    {
     "name": "stderr",
     "output_type": "stream",
     "text": [
      "2024/04/15 11:55:41 WARNING mlflow.utils.autologging_utils: You are using an unsupported version of keras. If you encounter errors during autologging, try upgrading / downgrading keras to a supported version, or try upgrading MLflow.\n",
      "\n"
     ]
    },
    {
     "data": {
      "text/html": [
       "<pre style=\"white-space:pre;overflow-x:auto;line-height:normal;font-family:Menlo,'DejaVu Sans Mono',consolas,'Courier New',monospace\"></pre>\n"
      ],
      "text/plain": []
     },
     "metadata": {},
     "output_type": "display_data"
    },
    {
     "name": "stdout",
     "output_type": "stream",
     "text": [
      " 40%|████      | 2/5 [47:30<1:19:27, 1589.28s/trial, best loss: 0.023873213678598404]"
     ]
    },
    {
     "name": "stderr",
     "output_type": "stream",
     "text": [
      "2024/04/15 12:34:56 WARNING mlflow.utils.autologging_utils: You are using an unsupported version of keras. If you encounter errors during autologging, try upgrading / downgrading keras to a supported version, or try upgrading MLflow.\n",
      "\n"
     ]
    },
    {
     "data": {
      "text/html": [
       "<pre style=\"white-space:pre;overflow-x:auto;line-height:normal;font-family:Menlo,'DejaVu Sans Mono',consolas,'Courier New',monospace\"></pre>\n"
      ],
      "text/plain": []
     },
     "metadata": {},
     "output_type": "display_data"
    },
    {
     "name": "stdout",
     "output_type": "stream",
     "text": [
      " 60%|██████    | 3/5 [1:15:13<54:05, 1622.70s/trial, best loss: 0.023873213678598404]"
     ]
    },
    {
     "name": "stderr",
     "output_type": "stream",
     "text": [
      "2024/04/15 13:02:38 WARNING mlflow.utils.autologging_utils: You are using an unsupported version of keras. If you encounter errors during autologging, try upgrading / downgrading keras to a supported version, or try upgrading MLflow.\n",
      "\n"
     ]
    },
    {
     "data": {
      "text/html": [
       "<pre style=\"white-space:pre;overflow-x:auto;line-height:normal;font-family:Menlo,'DejaVu Sans Mono',consolas,'Courier New',monospace\"></pre>\n"
      ],
      "text/plain": []
     },
     "metadata": {},
     "output_type": "display_data"
    },
    {
     "name": "stdout",
     "output_type": "stream",
     "text": [
      " 80%|████████  | 4/5 [1:37:21<25:06, 1506.30s/trial, best loss: 0.02015901543200016] "
     ]
    },
    {
     "name": "stderr",
     "output_type": "stream",
     "text": [
      "2024/04/15 13:24:46 WARNING mlflow.utils.autologging_utils: You are using an unsupported version of keras. If you encounter errors during autologging, try upgrading / downgrading keras to a supported version, or try upgrading MLflow.\n",
      "\n"
     ]
    },
    {
     "data": {
      "text/html": [
       "<pre style=\"white-space:pre;overflow-x:auto;line-height:normal;font-family:Menlo,'DejaVu Sans Mono',consolas,'Courier New',monospace\"></pre>\n"
      ],
      "text/plain": []
     },
     "metadata": {},
     "output_type": "display_data"
    },
    {
     "name": "stdout",
     "output_type": "stream",
     "text": [
      "100%|██████████| 5/5 [1:44:44<00:00, 1256.97s/trial, best loss: 0.02015901543200016]\n"
     ]
    }
   ],
   "source": [
    "# Find the best combination of parameters across the entire search space\n",
    "trials = Trials()\n",
    "best = fmin(\n",
    "    fn=objective,\n",
    "    space=search_space,\n",
    "    algo=tpe.suggest,\n",
    "    max_evals=5,\n",
    "    trials=trials\n",
    ")"
   ]
  },
  {
   "cell_type": "code",
   "execution_count": 45,
   "metadata": {},
   "outputs": [
    {
     "data": {
      "text/plain": [
       "{'dropout_rate_1': 0.5493444502702927,\n",
       " 'dropout_rate_2': 0.4324292506331724,\n",
       " 'dropout_rate_3': 0.2408833316379257,\n",
       " 'filter_1': 320.0,\n",
       " 'filter_2': 216.0,\n",
       " 'filter_3': 32.0,\n",
       " 'kernel_size_1': 1,\n",
       " 'kernel_size_2': 0}"
      ]
     },
     "execution_count": 45,
     "metadata": {},
     "output_type": "execute_result"
    }
   ],
   "source": [
    "best"
   ]
  },
  {
   "cell_type": "code",
   "execution_count": 55,
   "metadata": {},
   "outputs": [],
   "source": [
    "from fastapi import FastAPI\n",
    "import mlflow.pyfunc\n",
    "\n",
    "# Load the MLflow model as a PyFunc model\n",
    "app = FastAPI()\n",
    "\n",
    "@app.post('/predict')\n",
    "def predict(data: dict):\n",
    "    # Assuming data is a dictionary with model input\n",
    "    model = mlflow.pyfunc.load_model('C:/Users/638658/Downloads/mlruns/0/365e3a4f35c74a3fac137b9fa1e98c88/artifacts/model')\n",
    "    prediction = model.predict(data)\n",
    "    return {\"prediction\": prediction}"
   ]
  }
 ],
 "metadata": {
  "accelerator": "TPU",
  "colab": {
   "private_outputs": true,
   "provenance": [],
   "toc_visible": true
  },
  "kernelspec": {
   "display_name": "Python 3 (ipykernel)",
   "language": "python",
   "name": "python3"
  },
  "language_info": {
   "codemirror_mode": {
    "name": "ipython",
    "version": 3
   },
   "file_extension": ".py",
   "mimetype": "text/x-python",
   "name": "python",
   "nbconvert_exporter": "python",
   "pygments_lexer": "ipython3",
   "version": "3.11.7"
  }
 },
 "nbformat": 4,
 "nbformat_minor": 4
}
